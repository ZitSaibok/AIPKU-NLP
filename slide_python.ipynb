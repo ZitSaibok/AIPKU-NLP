{
 "cells": [
  {
   "cell_type": "markdown",
   "metadata": {
    "slideshow": {
     "slide_type": "slide"
    }
   },
   "source": [
    "# <center>Python3 入门</center>  \n",
    "#### <center>节世博</center> "
   ]
  },
  {
   "cell_type": "markdown",
   "metadata": {
    "slideshow": {
     "slide_type": "subslide"
    }
   },
   "source": [
    "## 内容\n",
    "\n",
    "+ 数据结构\n",
    "+ 基础语法\n",
    "+ 面向对象\n",
    "+ 输入输出\n",
    "+ 包管理与使用"
   ]
  },
  {
   "cell_type": "markdown",
   "metadata": {
    "slideshow": {
     "slide_type": "subslide"
    }
   },
   "source": [
    "### 输出与注释"
   ]
  },
  {
   "cell_type": "code",
   "execution_count": 4,
   "metadata": {},
   "outputs": [
    {
     "name": "stdout",
     "output_type": "stream",
     "text": [
      "Hello world!\n",
      "Hello python3!\n",
      "Hello world !\n"
     ]
    }
   ],
   "source": [
    "\"\"\"\n",
    "输出 Hello world\n",
    "\"\"\"\n",
    "\n",
    "print(\"Hello world!\")           # 结尾额外输出\\n\n",
    "print(\"Hello python\", end='')  # 自定义结尾输出的字符\n",
    "print(\"3!\")\n",
    "print(\"Hello\", \"world\", \"!\")"
   ]
  },
  {
   "cell_type": "markdown",
   "metadata": {
    "slideshow": {
     "slide_type": "slide"
    }
   },
   "source": [
    "## 数据结构\n",
    "\n",
    "- 数字型\n",
    "    + Numbers（数值）- int, float, bool, complex\n",
    "    \n",
    "- 非数字型\n",
    "    + String（字符串）\n",
    "    + Tuple（元组）\n",
    "    + List（列表）\n",
    "    + Set（集合）\n",
    "    + Dictionary（字典）"
   ]
  },
  {
   "cell_type": "markdown",
   "metadata": {
    "slideshow": {
     "slide_type": "subslide"
    }
   },
   "source": [
    "### Numbers\n",
    "- <font size=5>不需要声明变量类型</font>\n",
    "- <font size=5>变量名由字母、数字和下划线组成，且不能以数字开头，不能与python保留名称冲突</font>\n",
    "- <font size=5>int 型占用空间动态管理</font>"
   ]
  },
  {
   "cell_type": "code",
   "execution_count": 25,
   "metadata": {},
   "outputs": [
    {
     "name": "stdout",
     "output_type": "stream",
     "text": [
      "1 2.5 True (1+0.5j)\n",
      "<class 'int'>\n"
     ]
    }
   ],
   "source": [
    "n_int = 1                          # 创建int型变量\n",
    "n_float, n_bool = 2.5, True        # 创建float和bool型变量\n",
    "n_complex = complex(1, 0.5)        # 创建complex型变量\n",
    "\n",
    "print(n_int, n_float, n_bool, n_complex)\n",
    "print(type(n_int))                 # 使用type函数获取变量类型"
   ]
  },
  {
   "cell_type": "markdown",
   "metadata": {
    "slideshow": {
     "slide_type": "subslide"
    }
   },
   "source": [
    "### Numbers\n",
    "- 算数运算符\n",
    "    + <font size=5>加法 + ，减法 - ，乘法 * ，浮点除法 / ，取整除法 // ，幂运算 ** ，取余 %</font> \n",
    "    + <font size=5>上述运算符均有对应的赋值运算符，例如自加 +=，自减 -="
   ]
  },
  {
   "cell_type": "code",
   "execution_count": 5,
   "metadata": {
    "scrolled": true
   },
   "outputs": [
    {
     "name": "stdout",
     "output_type": "stream",
     "text": [
      "2.5 2\n",
      "9\n",
      "4.8\n"
     ]
    }
   ],
   "source": [
    "print(5 / 2, 5 // 2)\n",
    "print(3 ** 2)\n",
    "\n",
    "n = 2.4\n",
    "n *= 2\n",
    "print(n)"
   ]
  },
  {
   "cell_type": "markdown",
   "metadata": {
    "slideshow": {
     "slide_type": "subslide"
    }
   },
   "source": [
    "+ 比较运算符\n",
    "    + <font size=5>等于 == ，不等于 != ，大于 > ，小于 < ，大于等于 >= ，小于等于 <=</font>\n",
    "+ 位运算符\n",
    "    + <font size=5>按位与 & ，按位或 | ，按位异或 ^ ，按位取反 ~ ，左移 << ，算术右移 >></font> \n",
    "+ 逻辑运算符\n",
    "    + <font size=5>与 and ，或 or ，非 not</font>"
   ]
  },
  {
   "cell_type": "code",
   "execution_count": 8,
   "metadata": {
    "scrolled": true
   },
   "outputs": [
    {
     "name": "stdout",
     "output_type": "stream",
     "text": [
      "False\n",
      "True\n",
      "False\n"
     ]
    }
   ],
   "source": [
    "print(True and False)\n",
    "print(1 < 2 or 3.7 <= 0)\n",
    "print(not 1 == 1.0)"
   ]
  },
  {
   "cell_type": "markdown",
   "metadata": {
    "slideshow": {
     "slide_type": "slide"
    }
   },
   "source": [
    "## 基础语法\n",
    "\n",
    "+ 条件语句\n",
    "+ 循环语句\n",
    "+ 函数"
   ]
  },
  {
   "cell_type": "markdown",
   "metadata": {
    "slideshow": {
     "slide_type": "slide"
    }
   },
   "source": [
    "## 面向对象"
   ]
  },
  {
   "cell_type": "markdown",
   "metadata": {
    "pycharm": {
     "is_executing": false,
     "name": "#%%\n"
    },
    "scrolled": true,
    "slideshow": {
     "slide_type": "slide"
    }
   },
   "source": [
    "## 输入输出"
   ]
  },
  {
   "cell_type": "markdown",
   "metadata": {
    "scrolled": true,
    "slideshow": {
     "slide_type": "slide"
    }
   },
   "source": [
    "## 包管理与使用"
   ]
  },
  {
   "cell_type": "code",
   "execution_count": null,
   "metadata": {},
   "outputs": [],
   "source": []
  }
 ],
 "metadata": {
  "celltoolbar": "幻灯片",
  "kernelspec": {
   "display_name": "Python 3",
   "language": "python",
   "name": "python3"
  },
  "language_info": {
   "codemirror_mode": {
    "name": "ipython",
    "version": 3
   },
   "file_extension": ".py",
   "mimetype": "text/x-python",
   "name": "python",
   "nbconvert_exporter": "python",
   "pygments_lexer": "ipython3",
   "version": "3.7.3"
  },
  "pycharm": {
   "stem_cell": {
    "cell_type": "raw",
    "metadata": {
     "collapsed": false
    },
    "source": []
   }
  }
 },
 "nbformat": 4,
 "nbformat_minor": 1
}
