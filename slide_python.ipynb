{
 "cells": [
  {
   "cell_type": "markdown",
   "metadata": {
    "slideshow": {
     "slide_type": "slide"
    }
   },
   "source": [
    "# <center>Python3 入门</center>  \n",
    "#### <center>节世博</center> "
   ]
  },
  {
   "cell_type": "markdown",
   "metadata": {
    "slideshow": {
     "slide_type": "subslide"
    }
   },
   "source": [
    "## 内容\n",
    "\n",
    "+ 数据结构\n",
    "+ 基础语法\n",
    "+ 面向对象\n",
    "+ 输入输出\n",
    "+ 包管理与使用"
   ]
  },
  {
   "cell_type": "markdown",
   "metadata": {
    "slideshow": {
     "slide_type": "subslide"
    }
   },
   "source": [
    "### 输出与注释"
   ]
  },
  {
   "cell_type": "code",
   "execution_count": 1,
   "metadata": {
    "pycharm": {
     "is_executing": false
    }
   },
   "outputs": [
    {
     "name": "stdout",
     "output_type": "stream",
     "text": [
      "Hello world!\n",
      "Hello python3!\n",
      "Hello world !\n"
     ]
    }
   ],
   "source": [
    "\"\"\"\n",
    "输出 Hello world\n",
    "\"\"\"\n",
    "\n",
    "print(\"Hello world!\")           # 结尾额外输出\\n\n",
    "print(\"Hello python\", end='')  # 自定义结尾输出的字符\n",
    "print(\"3!\")\n",
    "print(\"Hello\", \"world\", \"!\")"
   ]
  },
  {
   "cell_type": "markdown",
   "metadata": {
    "slideshow": {
     "slide_type": "slide"
    }
   },
   "source": [
    "## 数据结构\n",
    "\n",
    "- 数字型\n",
    "    + Number（数值）- int, float, bool, complex\n",
    "    \n",
    "- 非数字型\n",
    "    + String（字符串）\n",
    "    + Tuple（元组）\n",
    "    + List（列表）\n",
    "    + Set（集合）\n",
    "    + Dictionary（字典）"
   ]
  },
  {
   "cell_type": "markdown",
   "metadata": {
    "slideshow": {
     "slide_type": "subslide"
    }
   },
   "source": [
    "### Number\n",
    "- <font size=5>不需要声明变量类型</font>\n",
    "- <font size=5>变量名由字母、数字和下划线组成，且不能以数字开头，不能与python保留名称冲突</font>\n",
    "- <font size=5>int 型占用空间动态管理</font>"
   ]
  },
  {
   "cell_type": "code",
   "execution_count": 2,
   "metadata": {
    "pycharm": {
     "is_executing": false
    }
   },
   "outputs": [
    {
     "name": "stdout",
     "output_type": "stream",
     "text": [
      "1 2.5 True (1+0.5j)\n",
      "<class 'int'>\n"
     ]
    }
   ],
   "source": [
    "n_int = 1                          # 创建int型变量\n",
    "n_float, n_bool = 2.5, True        # 创建float和bool型变量\n",
    "n_complex = complex(1, 0.5)        # 创建complex型变量\n",
    "\n",
    "print(n_int, n_float, n_bool, n_complex)\n",
    "print(type(n_int))                 # 使用type函数获取变量类型"
   ]
  },
  {
   "cell_type": "markdown",
   "metadata": {
    "slideshow": {
     "slide_type": "subslide"
    }
   },
   "source": [
    "### Number\n",
    "- 算数运算符\n",
    "    + <font size=5>加法 + ，减法 - ，乘法 * ，浮点除法 / ，取整除法 // ，幂运算 ** ，取余 %</font> \n",
    "    + <font size=5>上述运算符均有对应的赋值运算符，例如自加 +=，自减 -=</font>"
   ]
  },
  {
   "cell_type": "code",
   "execution_count": 3,
   "metadata": {
    "pycharm": {
     "is_executing": false
    },
    "scrolled": true
   },
   "outputs": [
    {
     "name": "stdout",
     "output_type": "stream",
     "text": [
      "2.5 2\n",
      "9\n",
      "4.8\n"
     ]
    }
   ],
   "source": [
    "print(5 / 2, 5 // 2)\n",
    "print(3 ** 2)\n",
    "\n",
    "n = 2.4\n",
    "n *= 2\n",
    "print(n)"
   ]
  },
  {
   "cell_type": "markdown",
   "metadata": {
    "slideshow": {
     "slide_type": "subslide"
    }
   },
   "source": [
    "+ 比较运算符\n",
    "    + <font size=5>等于 == ，不等于 != ，大于 > ，小于 < ，大于等于 >= ，小于等于 <=</font>\n",
    "+ 位运算符\n",
    "    + <font size=5>按位与 & ，按位或 | ，按位异或 ^ ，按位取反 ~ ，左移 << ，算术右移 >></font> \n",
    "+ 逻辑运算符\n",
    "    + <font size=5>（短路）与 and ，（短路）或 or ，非 not</font>"
   ]
  },
  {
   "cell_type": "code",
   "execution_count": 4,
   "metadata": {
    "pycharm": {
     "is_executing": false
    },
    "scrolled": true
   },
   "outputs": [
    {
     "name": "stdout",
     "output_type": "stream",
     "text": [
      "False\n",
      "True\n",
      "False\n"
     ]
    }
   ],
   "source": [
    "print(True and False)\n",
    "print(1 < 2 or 3.7 <= 0)\n",
    "print(not 1 == 1.0)"
   ]
  },
  {
   "cell_type": "markdown",
   "metadata": {
    "slideshow": {
     "slide_type": "subslide"
    }
   },
   "source": [
    "### String\n",
    "+ 字符串使用'或\"引出，单字符也视作字符串\n",
    "+ 运算符\n",
    "    - <font size=5>连接 + ，重复连接 * ，索引 [] ，切片 [:] ，属于 in ，不属于 not in</font>\n",
    "    - <font size=5>原始字符串 r ，转义字符 \\ ，格式化字符串 %</font>"
   ]
  },
  {
   "cell_type": "code",
   "execution_count": 5,
   "metadata": {
    "pycharm": {
     "is_executing": false
    }
   },
   "outputs": [
    {
     "name": "stdout",
     "output_type": "stream",
     "text": [
      "Hello world!\n",
      "Hello Hello Hello \n",
      "l o\n",
      "el ld!  olleH\n",
      "True\n"
     ]
    }
   ],
   "source": [
    "str1, str2 = 'Hello ', \"world!\"                 #字符串赋值\n",
    "print(str1 + str2)                              #连接\n",
    "print(str1 * 3)                                 #重复连接\n",
    "print(str1[2], str1[-2])                        #索引\n",
    "print(str1[1:3], str2[-3:], str1[::-1])         #切片 [a:b:c] 在区间[a,b)按步长c取子串\n",
    "print('rl' in str2)                             #属于"
   ]
  },
  {
   "cell_type": "code",
   "execution_count": 6,
   "metadata": {
    "pycharm": {
     "is_executing": false
    },
    "slideshow": {
     "slide_type": "subslide"
    }
   },
   "outputs": [
    {
     "name": "stdout",
     "output_type": "stream",
     "text": [
      "\" \\\"\n",
      "1, 0.52\n",
      "1 <class 'str'>\n",
      "1.0 <class 'float'>\n",
      "6\n",
      "P y\n"
     ]
    }
   ],
   "source": [
    "print('\\\"', r'\\\"')              #转义字符与原始字符串\n",
    "\n",
    "a, b = 1, 0.524\n",
    "print(\"%d, %.2f\"%(a, b))        #格式化字符串\n",
    "\n",
    "str3 = str(a)\n",
    "c = float(str3)                 #与Number类型转换\n",
    "print(str3, type(str3))\n",
    "print(c, type(c))\n",
    "\n",
    "str4 = 'Python'\n",
    "print(len(str4))                #获取字符串长度 \n",
    "print(min(str4), max(str4))     #获取字符最大最小值 "
   ]
  },
  {
   "cell_type": "markdown",
   "metadata": {
    "slideshow": {
     "slide_type": "subslide"
    }
   },
   "source": [
    "+ 常用方法"
   ]
  },
  {
   "cell_type": "code",
   "execution_count": 7,
   "metadata": {
    "pycharm": {
     "is_executing": false
    }
   },
   "outputs": [
    {
     "name": "stdout",
     "output_type": "stream",
     "text": [
      "3\n",
      "6\n",
      "H#e#l#l#o# #w#o#r#l#d\n",
      "['Hello', 'world']\n",
      "Hello python\n"
     ]
    }
   ],
   "source": [
    "str1, str2 = 'Hello world', '#'\n",
    "\n",
    "print(str1.count('l'))                 #子串计数 count(str, beg=0, end=len(string))\n",
    "print(str1.find('world'))              #子串查找 find(str, beg=0, end=len(string))\n",
    "print(str2.join(str1))                 #作为分隔符连接 join(seq)\n",
    "print(str1.split(' '))                 #分割字符串 split(str=\" \", num=string.count(str))\n",
    "print(str1.replace('world', 'python')) #替换子串 replace(old, new [, max])"
   ]
  },
  {
   "cell_type": "markdown",
   "metadata": {
    "slideshow": {
     "slide_type": "subslide"
    }
   },
   "source": [
    "### Tuple\n",
    "+ 元组类似c++的数组，但元素可以为任意类型\n",
    "+ 元组一旦创建，不能修改\n",
    "+ 运算符（与string类似）\n",
    "    - <font size=5>连接 + ，重复连接 * ，索引 [] ，切片 [:] ，属于 in ，不属于 not in</font>"
   ]
  },
  {
   "cell_type": "code",
   "execution_count": 8,
   "metadata": {
    "pycharm": {
     "is_executing": false
    }
   },
   "outputs": [
    {
     "name": "stdout",
     "output_type": "stream",
     "text": [
      "(1, 'Python', (), 1, 'Python', ())\n",
      "(1, 'Python', (), 'Python', 1)\n",
      "True\n",
      "1 Python ()\n",
      "4 1 4\n"
     ]
    }
   ],
   "source": [
    "a = ()\n",
    "b = (1, 'Python', a)                     #注意：创建单元素元组是使用(1,)而非(1)，后者将()视为运算符\n",
    "print(b * 2)\n",
    "print(b[:2] + b[::-1])\n",
    "print(a in b)\n",
    "b1, b2, b3 = b                           #元组对多个变量赋值\n",
    "print(b1, b2, b3)\n",
    "\n",
    "c = (1, 2, 3, 4)                        \n",
    "print(max(c), min(c), len(c))            #当元素类型可比较时，可使用min、max"
   ]
  },
  {
   "cell_type": "markdown",
   "metadata": {
    "slideshow": {
     "slide_type": "subslide"
    }
   },
   "source": [
    "### List\n",
    "+ 列表与元组类似，但是可修改\n",
    "+ 运算符（与string、tuple类似）\n",
    "    - <font size=5>连接 + ，重复连接 * ，索引 [] ，切片 [:] ，属于 in ，不属于 not in</font>"
   ]
  },
  {
   "cell_type": "code",
   "execution_count": 9,
   "metadata": {
    "pycharm": {
     "is_executing": false
    }
   },
   "outputs": [
    {
     "name": "stdout",
     "output_type": "stream",
     "text": [
      "1 Python (0, 1, 2)\n",
      "[0, 'Python', (0, 1, 2)]\n",
      "[0, 1, 2, 3, 4, 5]\n",
      "6 0 5 15\n",
      "[1, 2, 3, 4]\n"
     ]
    }
   ],
   "source": [
    "a = (0, 1, 2)\n",
    "b = [1, 'Python', a]                 \n",
    "\n",
    "b1, b2, b3 = b                       #列表对多个变量赋值\n",
    "print(b1, b2, b3)\n",
    "b[0] -= 1                            #修改单个元素\n",
    "print(b)\n",
    "b[1:] = [1, 2, 3, 4, 5]              #修改列表片段\n",
    "print(b)\n",
    "\n",
    "print(len(b), min(b), max(b), sum(b))#如果列表元素可加，使用sum对列表求和\n",
    "print(sum([[1, 2], [3], [4]], []))   #如果元素非数值，需要指定累加起始值"
   ]
  },
  {
   "cell_type": "markdown",
   "metadata": {
    "slideshow": {
     "slide_type": "subslide"
    }
   },
   "source": [
    "+ 常用方法"
   ]
  },
  {
   "cell_type": "code",
   "execution_count": 10,
   "metadata": {
    "pycharm": {
     "is_executing": false
    }
   },
   "outputs": [
    {
     "name": "stdout",
     "output_type": "stream",
     "text": [
      "1: [0, 1, 2, 3, 4, 2]\n",
      "2: 2\n",
      "3: 1\n",
      "4: [0, 1, 2, 2, 3, 4]\n",
      "5: [0, 1, 2, 3, 4]\n",
      "6: [0, 1, 2, 100, 3, 4]\n",
      "7: [0, 1, 2, 100, 3]\n",
      "8: [3, 100, 2, 1, 0]\n",
      "9: [3, 100, 2, 1, 0, -1, -2]\n"
     ]
    }
   ],
   "source": [
    "a = [0, 1, 2, 3, 4]\n",
    "a.append(2)                     #在末尾添加新元素 list.append(obj)\n",
    "print('1:', a)\n",
    "print('2:', a.count(2))         #元素计数 list.count(obj)\n",
    "print('3:', a.index(1))         #元素查找 list.index(obj)\n",
    "a.sort()                        #排序 list.sort(key=None, reverse=False)\n",
    "print('4:', a)\n",
    "a.remove(2)                     #移除一个指定元素 list.remove(obj)\n",
    "print('5:', a)\n",
    "a.insert(3, 100)                #添加元素在指定位置 list.insert(index, obj)\n",
    "print('6:', a)\n",
    "a.pop(5)                        #移除指定位置的元素 list.pop([index=-1])\n",
    "print('7:', a)\n",
    "a.reverse()                     #反转 list.reverse() 相当于\n",
    "print('8:', a)\n",
    "a.extend([-1, -2])              #扩展 list.extend(seq) 相当于 list += seq\n",
    "print('9:', a)"
   ]
  },
  {
   "cell_type": "markdown",
   "metadata": {
    "slideshow": {
     "slide_type": "subslide"
    }
   },
   "source": [
    "### Set\n",
    "+ 集合是无序的不重复元素序列\n",
    "+ 运算符\n",
    "    - <font size=5>交集 & ，并集 | ，集合减 - ，异或 ^ ，属于 in ，不属于 not in</font>"
   ]
  },
  {
   "cell_type": "code",
   "execution_count": 11,
   "metadata": {
    "pycharm": {
     "is_executing": false
    }
   },
   "outputs": [
    {
     "name": "stdout",
     "output_type": "stream",
     "text": [
      "{2, 4}\n",
      "{0, 1, 2, 3, 4, 5, 6, 8}\n",
      "{1, 3, 5}\n",
      "{0, 1, 3, 5, 6, 8}\n",
      "True\n"
     ]
    }
   ],
   "source": [
    "a, b = {1, 2, 3, 4, 5}, {0, 2, 4, 6, 8}      #注意：空集合用set()创建，{}为空字典\n",
    "\n",
    "print(a & b)\n",
    "print(a | b)\n",
    "print(a - b)\n",
    "print(a ^ b)\n",
    "print(3 in a)"
   ]
  },
  {
   "cell_type": "markdown",
   "metadata": {
    "slideshow": {
     "slide_type": "subslide"
    }
   },
   "source": [
    "+ 常用方法"
   ]
  },
  {
   "cell_type": "code",
   "execution_count": 12,
   "metadata": {
    "pycharm": {
     "is_executing": false
    }
   },
   "outputs": [
    {
     "name": "stdout",
     "output_type": "stream",
     "text": [
      "{0, 5}\n",
      "{0, 4, 5, 6, 7, 8}\n",
      "{0, 4, 5, 6, 8}\n",
      "5\n",
      "set() 0\n",
      "{0, 1, 2}\n",
      "(0, 1, 2)\n",
      "[0, 1, 1, 2, 2, 2]\n"
     ]
    }
   ],
   "source": [
    "a = {0}\n",
    "a.add(5)                            #添加元素\n",
    "print(a)\n",
    "a.update([4, 6], (7, 8))            #添加多个元素\n",
    "print(a)\n",
    "a.remove(7)                         #移除元素\n",
    "print(a)\n",
    "print(len(a))                       #元素数量\n",
    "a.clear()                           #清空集合\n",
    "print(a, len(a))\n",
    "\n",
    "b = [0, 1, 1, 2, 2, 2]              #tuple、list、set可互相转换\n",
    "c = set(b)\n",
    "print(c)\n",
    "d = tuple(c)\n",
    "print(d)\n",
    "\n",
    "print(str(b))                       # 所有类型都可以转换为string，在print时先转换为string"
   ]
  },
  {
   "cell_type": "markdown",
   "metadata": {
    "slideshow": {
     "slide_type": "subslide"
    }
   },
   "source": [
    "### Dictionary\n",
    "+ 字典储存key: value对，key必须唯一\n",
    "+ value可以取任意类型，但key只能取不可变类型（数值、字符串、元组）\n",
    "+ 常用方法"
   ]
  },
  {
   "cell_type": "code",
   "execution_count": 13,
   "metadata": {
    "pycharm": {
     "is_executing": false
    }
   },
   "outputs": [
    {
     "name": "stdout",
     "output_type": "stream",
     "text": [
      "Python\n"
     ]
    }
   ],
   "source": [
    "a = {'name': 'Python', 1.45: [0, 1, 2]}\n",
    "print(a['name'])"
   ]
  },
  {
   "cell_type": "markdown",
   "metadata": {
    "slideshow": {
     "slide_type": "subslide"
    }
   },
   "source": [
    "+ 常用方法"
   ]
  },
  {
   "cell_type": "code",
   "execution_count": 14,
   "metadata": {
    "pycharm": {
     "is_executing": false
    }
   },
   "outputs": [
    {
     "name": "stdout",
     "output_type": "stream",
     "text": [
      "{'name': 'Python3', 1.45: [0, 1, 2]}\n",
      "{'name': 'Python3', 1.45: [0, 1, 2], (3, 5): False}\n",
      "{'name': 'Python3', (3, 5): False}\n",
      "2\n",
      "True\n",
      "['name', (3, 5)] ['Python3', False]\n",
      "[('name', 'Python3'), ((3, 5), False)]\n"
     ]
    }
   ],
   "source": [
    "a = {'name': 'Python', 1.45: [0, 1, 2]}\n",
    "\n",
    "a['name'] = 'Python3'                   #更改key对应的value\n",
    "print(a)\n",
    "a[(3, 5)] = False                       #添加key: value对\n",
    "print(a)\n",
    "a.pop(1.45)                             #删除指定key对应的key: value对\n",
    "print(a)\n",
    "print(len(a))                           #字典元素数量\n",
    "print((3, 5) in a)                      #in，not in判断指定key是否在字典中存在\n",
    "print(list(a.keys()), list(a.values())) #全部key，value构成的列表\n",
    "print(list(a.items()))                  #转换为(key, value)元组构成的列表"
   ]
  },
  {
   "cell_type": "markdown",
   "metadata": {
    "slideshow": {
     "slide_type": "subslide"
    }
   },
   "source": [
    "### 引用、不可变类型与数据池\n",
    "\n",
    "+ python的赋值实际上是传引用\n",
    "+ == 两者值是否相同，is 两者是否为同一个对象\n",
    "+ None为空类型，任何None的引用都指向同一个对象"
   ]
  },
  {
   "cell_type": "code",
   "execution_count": 15,
   "metadata": {
    "pycharm": {
     "is_executing": false
    }
   },
   "outputs": [
    {
     "name": "stdout",
     "output_type": "stream",
     "text": [
      "[1, 2, 3] True\n",
      "[1, 2, 3, 4]\n",
      "True False\n",
      "([1, 2, 3, 4, 5], [1, 2, 3, 4, 5])\n"
     ]
    }
   ],
   "source": [
    "a = [1, 2, 3]\n",
    "b = a                       # a和b实际上是同一个列表\n",
    "print(b, b is a)\n",
    "b.append(4)\n",
    "print(a)\n",
    "\n",
    "c = [1, 2, 3, 4]\n",
    "print(a == c, a is c)       # a和c相等，但是不是同一个列表\n",
    "\n",
    "d = (a, b)\n",
    "d[0].append(5)              # 元组不可改变只限制引用不变，引用的实际值可以改变\n",
    "print(d)                   \n",
    "d = 3                       # 不报错，因为只是将d改为另一个对象的引用，元组本身不变\n",
    " # 为什么不能改元组中的number？"
   ]
  },
  {
   "cell_type": "markdown",
   "metadata": {
    "slideshow": {
     "slide_type": "subslide"
    }
   },
   "source": [
    "+ 不可变类型为number、string、tuple，其余为可变类型\n",
    "+ 因为number不可变，意味着改变number相当于创建一个新的number"
   ]
  },
  {
   "cell_type": "code",
   "execution_count": 16,
   "metadata": {
    "pycharm": {
     "is_executing": false
    }
   },
   "outputs": [
    {
     "name": "stdout",
     "output_type": "stream",
     "text": [
      "True\n",
      "False\n"
     ]
    }
   ],
   "source": [
    "a = 1000\n",
    "b = a\n",
    "print(a is b)\n",
    "b += 1\n",
    "print(a is b)"
   ]
  },
  {
   "cell_type": "markdown",
   "metadata": {
    "slideshow": {
     "slide_type": "subslide"
    }
   },
   "source": [
    "+ 为了减小空间开销，python预先存好了[-5,256]的整数和长度20以内的字母字符串\n",
    "+ 所有符合条件的int和string引用都指向同一个对象"
   ]
  },
  {
   "cell_type": "code",
   "execution_count": 17,
   "metadata": {
    "pycharm": {
     "is_executing": false
    },
    "slideshow": {
     "slide_type": "-"
    }
   },
   "outputs": [
    {
     "name": "stdout",
     "output_type": "stream",
     "text": [
      "True\n",
      "False\n",
      "True\n",
      "False\n"
     ]
    }
   ],
   "source": [
    "a, b = 10, 10\n",
    "print(a is b)\n",
    "\n",
    "a, b = -10, -10\n",
    "print(a is b)\n",
    "\n",
    "a, b = 'aa', 'aa'\n",
    "print(a is b)\n",
    "\n",
    "a, b = 'aa+', 'aa+'\n",
    "print(a is b)"
   ]
  },
  {
   "cell_type": "markdown",
   "metadata": {
    "slideshow": {
     "slide_type": "slide"
    }
   },
   "source": [
    "## 基础语法\n",
    "\n",
    "+ 条件语句\n",
    "+ 循环语句\n",
    "+ 函数\n",
    "+ 空语句"
   ]
  },
  {
   "cell_type": "markdown",
   "metadata": {
    "slideshow": {
     "slide_type": "subslide"
    }
   },
   "source": [
    "### 条件语句\n",
    "+ 条件语句用法与c++基本相同\n",
    "```python\n",
    "if cond1:\n",
    "      block1\n",
    "elif cond2:\n",
    "      block2\n",
    "else:\n",
    "      block3\n",
    "```"
   ]
  },
  {
   "cell_type": "code",
   "execution_count": 18,
   "metadata": {
    "pycharm": {
     "is_executing": false
    }
   },
   "outputs": [
    {
     "name": "stdout",
     "output_type": "stream",
     "text": [
      "negative\n",
      "2\n"
     ]
    }
   ],
   "source": [
    "a = -2\n",
    "if a < 0:\n",
    "    print('negative')     # python代码块不需要{}扩起，而是通过缩进区分，因此需要严格执行缩进\n",
    "    a = -a\n",
    "elif a > 0:\n",
    "    print('positive')     # 可以没有elif块\n",
    "else:\n",
    "    print('zero')         # 可以没有else块\n",
    "print(a)"
   ]
  },
  {
   "cell_type": "markdown",
   "metadata": {
    "slideshow": {
     "slide_type": "subslide"
    }
   },
   "source": [
    "+ 类似c++中的三目运算符，可以使用if/else进行条件赋值"
   ]
  },
  {
   "cell_type": "code",
   "execution_count": 19,
   "metadata": {
    "pycharm": {
     "is_executing": false
    }
   },
   "outputs": [
    {
     "name": "stdout",
     "output_type": "stream",
     "text": [
      "nonnegative\n"
     ]
    }
   ],
   "source": [
    "a = 2\n",
    "b = 'negative' if a < 0 else 'nonnegative'\n",
    "print(b)"
   ]
  },
  {
   "cell_type": "markdown",
   "metadata": {
    "slideshow": {
     "slide_type": "subslide"
    }
   },
   "source": [
    "### 循环语句\n",
    "+ while 循环\n",
    "    + while循环以及break/continue与c++用法基本相同\n",
    "    + 当循环正常结束时，执行else块\n",
    "```python\n",
    "    while cond:\n",
    "          block1\n",
    "    else:\n",
    "          block2\n",
    "```\n"
   ]
  },
  {
   "cell_type": "code",
   "execution_count": 20,
   "metadata": {
    "pycharm": {
     "is_executing": false
    },
    "slideshow": {
     "slide_type": "subslide"
    }
   },
   "outputs": [
    {
     "name": "stdout",
     "output_type": "stream",
     "text": [
      "3\n",
      "2\n",
      "1\n",
      "end\n"
     ]
    }
   ],
   "source": [
    "a = 3\n",
    "while a > 0:\n",
    "    print(a)\n",
    "    a -= 1\n",
    "    if a == 4:\n",
    "        print('break')\n",
    "        break                \n",
    "else:                        # 可以没有else块\n",
    "    print('end')             "
   ]
  },
  {
   "cell_type": "markdown",
   "metadata": {
    "slideshow": {
     "slide_type": "subslide"
    }
   },
   "source": [
    "+ for 循环\n",
    "    + var按顺序遍历sequence中的元素\n",
    "    + sequence可以为list、tuple、string、set、dictionary等任何可以遍历的对象\n",
    "```python\n",
    "    for var in sequence:\n",
    "          block1\n",
    "    else:\n",
    "          block2\n",
    "```"
   ]
  },
  {
   "cell_type": "code",
   "execution_count": 21,
   "metadata": {
    "pycharm": {
     "is_executing": false
    },
    "scrolled": true
   },
   "outputs": [
    {
     "name": "stdout",
     "output_type": "stream",
     "text": [
      "2,3,5,7,11,\n",
      "h,e,l,l,o, ,w,o,r,l,d,\n",
      "a 1,b 2,c 3,\n"
     ]
    }
   ],
   "source": [
    "a = [2, 3, 5, 7, 11]\n",
    "for i in a:\n",
    "    print(i, end=',')\n",
    "print() \n",
    "    \n",
    "b = 'hello world'\n",
    "for i in b:\n",
    "    print(i, end=',')\n",
    "print() \n",
    "\n",
    "c = {'a':1, 'b':2, 'c':3}         \n",
    "for i in c:                                 # 遍历字典的key\n",
    "    print(i, c[i], end=',')\n",
    "print() \n"
   ]
  },
  {
   "cell_type": "markdown",
   "metadata": {
    "slideshow": {
     "slide_type": "subslide"
    }
   },
   "source": [
    "+ range遍历整数区间"
   ]
  },
  {
   "cell_type": "code",
   "execution_count": 22,
   "metadata": {
    "pycharm": {
     "is_executing": false
    },
    "slideshow": {
     "slide_type": "-"
    }
   },
   "outputs": [
    {
     "name": "stdout",
     "output_type": "stream",
     "text": [
      "0,1,2,3,4,\n",
      "1,2,3,4,\n",
      "1,3,5,7,9,\n",
      "5,4,3,2,1,\n",
      "range(0, 5) [0, 1, 2, 3, 4]\n"
     ]
    }
   ],
   "source": [
    "for i in range(5):                 # 设置左闭右开区间终点，起点默认为0，步长默认为1\n",
    "    print(i, end=',')\n",
    "print()\n",
    "\n",
    "for i in range(1, 5):              # 设置左闭右开区间起点和终点，步长默认为1\n",
    "    print(i, end=',')\n",
    "print()\n",
    "\n",
    "for i in range(1, 10, 2):          # 设置左闭右开区间起点、终点、步长\n",
    "    print(i, end=',')\n",
    "print()\n",
    "\n",
    "for i in range(5, 0, -1):          # 步长为负数\n",
    "    print(i, end=',')\n",
    "print()\n",
    "\n",
    "a = range(5)\n",
    "print(a, list(a))"
   ]
  },
  {
   "cell_type": "markdown",
   "metadata": {
    "slideshow": {
     "slide_type": "subslide"
    }
   },
   "source": [
    "+ 使用for语句初始化序列"
   ]
  },
  {
   "cell_type": "code",
   "execution_count": 23,
   "metadata": {
    "pycharm": {
     "is_executing": false
    }
   },
   "outputs": [
    {
     "name": "stdout",
     "output_type": "stream",
     "text": [
      "[0, 1, 4, 9, 16]\n",
      "['p', 't', 'h', 'o', 'n']\n",
      "{1: 'a', 2: 'b', 3: 'c'}\n"
     ]
    }
   ],
   "source": [
    "a = [i * i for i in range(5)]                  # 遍历得到新列表中元素\n",
    "print(a)\n",
    "\n",
    "b = [j for j in 'python' if j != 'y']          # if条件判断是否作为元素\n",
    "print(b)\n",
    "\n",
    "c = {'a':1, 'b':2, 'c':3}\n",
    "d = {c[k]:k for k in c}                        # key-value调换\n",
    "print(d)"
   ]
  },
  {
   "cell_type": "markdown",
   "metadata": {
    "slideshow": {
     "slide_type": "subslide"
    }
   },
   "source": [
    "### 函数\n",
    "```python\n",
    "def func(无默认值的参数, 有默认值的参数):\n",
    "    block\n",
    "    \n",
    "func(位置参数, 关键字参数)\n",
    "```"
   ]
  },
  {
   "cell_type": "code",
   "execution_count": 24,
   "metadata": {
    "pycharm": {
     "is_executing": false
    }
   },
   "outputs": [
    {
     "name": "stdout",
     "output_type": "stream",
     "text": [
      "a=3, b=2, c=1, d=2\n",
      "8\n",
      "a=3, b=3, c=2, d=5\n",
      "13\n",
      "a=3, b=5, c=3, d=2\n",
      "13\n"
     ]
    }
   ],
   "source": [
    "def func1(a, b, c=1, d=2):\n",
    "    print('a=%d, b=%d, c=%d, d=%d'%(a, b, c, d))\n",
    "    return a + b + c + d\n",
    "\n",
    "print(func1(3, 2))                        # 如果不指明带默认值的参数，则使用默认值\n",
    "print(func1(3, 3, 2, 5))                  # 通过参数位置按顺序传参\n",
    "print(func1(3, c=3, d=2, b=5))            # 可以使用函数中参数名作为关键字传参，但必须写在位置参数后"
   ]
  },
  {
   "cell_type": "markdown",
   "metadata": {
    "slideshow": {
     "slide_type": "subslide"
    }
   },
   "source": [
    "+ 有多个返回值时，以元组形式返回"
   ]
  },
  {
   "cell_type": "code",
   "execution_count": 25,
   "metadata": {
    "pycharm": {
     "is_executing": false
    }
   },
   "outputs": [
    {
     "name": "stdout",
     "output_type": "stream",
     "text": [
      "(1, [1, 2])\n",
      "1 [1, 2]\n"
     ]
    }
   ],
   "source": [
    "def func2(a, b):\n",
    "    return a, b\n",
    "\n",
    "print(func2(1, [1, 2]))         # 可以传任意类型的参数\n",
    "\n",
    "a, b = func2(1, [1, 2])       # 利用元组对多个变量赋值的特性\n",
    "print(a, b)"
   ]
  },
  {
   "cell_type": "markdown",
   "metadata": {
    "slideshow": {
     "slide_type": "subslide"
    }
   },
   "source": [
    "+ 拆解元组、列表或字典作为参数"
   ]
  },
  {
   "cell_type": "code",
   "execution_count": 26,
   "metadata": {
    "pycharm": {
     "is_executing": false
    }
   },
   "outputs": [
    {
     "name": "stdout",
     "output_type": "stream",
     "text": [
      "1 2\n",
      "1 2\n",
      "1 2\n"
     ]
    }
   ],
   "source": [
    "def func3(a, b):\n",
    "    print(a, b)\n",
    "\n",
    "a = (1, 2)\n",
    "b = [1, 2]\n",
    "c = {'a':1, 'b':2}\n",
    "\n",
    "func3(*a)\n",
    "func3(*b)\n",
    "func3(**c)"
   ]
  },
  {
   "cell_type": "markdown",
   "metadata": {
    "slideshow": {
     "slide_type": "subslide"
    }
   },
   "source": [
    "+ 参数数量不确定时，使用可变参数\n",
    "+ 多余的位置参数作为元组传入，多余的关键字参数作为字典传入"
   ]
  },
  {
   "cell_type": "code",
   "execution_count": 27,
   "metadata": {
    "pycharm": {
     "is_executing": false
    }
   },
   "outputs": [
    {
     "name": "stdout",
     "output_type": "stream",
     "text": [
      "1 4\n",
      "(2, 3)\n",
      "{'c': 5, 'd': 6}\n"
     ]
    }
   ],
   "source": [
    "def func4(a, *vartuple, b=0, **vardict):\n",
    "    print(a, b)\n",
    "    print(vartuple)\n",
    "    print(vardict)\n",
    "    \n",
    "func4(1, 2, 3, b=4, c=5, d=6)"
   ]
  },
  {
   "cell_type": "markdown",
   "metadata": {
    "slideshow": {
     "slide_type": "subslide"
    }
   },
   "source": [
    "### 空语句\n",
    "+ 条件语句、循环语句以及函数的代码块不能为空\n",
    "+ pass单独成为一个语句，不做任何操作"
   ]
  },
  {
   "cell_type": "code",
   "execution_count": 28,
   "metadata": {
    "pycharm": {
     "is_executing": false
    }
   },
   "outputs": [],
   "source": [
    "def no_op():\n",
    "    pass"
   ]
  },
  {
   "cell_type": "markdown",
   "metadata": {
    "slideshow": {
     "slide_type": "slide"
    }
   },
   "source": [
    "## 面向对象\n",
    "\n",
    "+ 类的定义与实例化"
   ]
  },
  {
   "cell_type": "code",
   "execution_count": 29,
   "metadata": {
    "pycharm": {
     "is_executing": false,
     "name": "#%%\n"
    }
   },
   "outputs": [
    {
     "name": "stdout",
     "output_type": "stream",
     "text": [
      "1.4\n",
      "1.4\n",
      "1.4\n",
      "<class '__main__.MyClass1'>\n"
     ]
    }
   ],
   "source": [
    "class MyClass1:    \n",
    "    def __init__(self, a):           # 构造方法，在类实例化时调用。self表示实例自身的引用，类似c++的this指针\n",
    "        self.obj_var1 = a             # 实例变量，可以通过<实例的引用>.obj_var使用\n",
    "        temp_var = a                 # 局部变量，只在__init__内可以使用\n",
    "        self.func()                  # 调用方法\n",
    "    \n",
    "    def func(self):                  # 定义方法，第一个参数必须是self\n",
    "        self.obj_var2 = 0            # 在方法中添加成员变量\n",
    "        print(self.obj_var1)          # 使用实例变量\n",
    "        \n",
    "        \n",
    "obj = MyClass1(1.4)                  # 实例化，此时创建了一个类的实例，obj为实例名（引用）\n",
    "obj.func()                           # 通过实例名调用方法\n",
    "print(obj.obj_var1)                   # 通过实例名使用实例变量\n",
    "obj.obj_var2 = 1                     # 在类外添加实例成员变量\n",
    "\n",
    "print(type(obj))"
   ]
  },
  {
   "cell_type": "markdown",
   "metadata": {
    "slideshow": {
     "slide_type": "subslide"
    }
   },
   "source": [
    "+ 类的固有方法（内置方法）"
   ]
  },
  {
   "cell_type": "code",
   "execution_count": 30,
   "metadata": {
    "pycharm": {
     "is_executing": false,
     "name": "#%%\n"
    }
   },
   "outputs": [
    {
     "name": "stdout",
     "output_type": "stream",
     "text": [
      "init\n",
      "call\n",
      "3\n",
      "del\n"
     ]
    }
   ],
   "source": [
    "class MyClass2:\n",
    "    def __init__(self, a, b):           # 构造方法，在类实例化时调用。\n",
    "        print('init')\n",
    "        self.obj_list = list(range(a, b))\n",
    "        \n",
    "    def __del__(self):                  # 析构方法，在实例被销毁（引用数为0）时使用\n",
    "        print('del')\n",
    "        \n",
    "    def __call__(self, i):              # 将实例当作函数调用\n",
    "        print('call')\n",
    "        return self.obj_list[i]\n",
    "        \n",
    "obj = MyClass2(1, 5)\n",
    "print(obj(2))\n",
    "del obj"
   ]
  },
  {
   "cell_type": "code",
   "execution_count": 31,
   "metadata": {
    "slideshow": {
     "slide_type": "subslide"
    }
   },
   "outputs": [
    {
     "name": "stdout",
     "output_type": "stream",
     "text": [
      "init\n",
      "4\n",
      "[1, 2, 3, 4]\n",
      "[1, 2, 3, 4]\n",
      "<__main__.MyClass2 object at 0x0000016947398CC0>\n",
      "[1, 2, 3, 4, 0, 1, 2, 3]\n"
     ]
    }
   ],
   "source": [
    "class MyClass3:\n",
    "    def __init__(self, a, b):           # 构造方法，在类实例化时调用。\n",
    "        self.obj_list = list(range(a, b))\n",
    "        \n",
    "    def __len__(self):                  # 使用len时调用\n",
    "        return len(self.obj_list)\n",
    "    \n",
    "    def __str__(self):                  # 类型转换为str时调用，可以直接print\n",
    "        return str(self.obj_list)\n",
    "    \n",
    "    def __add__(self, b):               # 运算符重载，类似的还有__sub__，__mul__等\n",
    "        return self.obj_list + b.obj_list\n",
    "    \n",
    "obj1 = MyClass2(0, 4)\n",
    "obj2 = MyClass3(1, 5)\n",
    "print(len(obj2))\n",
    "print(str(obj2))\n",
    "print(obj2)\n",
    "print(obj1)\n",
    "print(obj2 + obj1)"
   ]
  },
  {
   "cell_type": "code",
   "execution_count": 32,
   "metadata": {
    "slideshow": {
     "slide_type": "subslide"
    }
   },
   "outputs": [
    {
     "name": "stdout",
     "output_type": "stream",
     "text": [
      "getitem\n",
      "3\n",
      "setitem\n",
      "getitem\n",
      "0\n"
     ]
    }
   ],
   "source": [
    "class MyClass4:\n",
    "    def __init__(self, a, b):           # 构造方法，在类实例化时调用。\n",
    "        self.obj_list = list(range(a, b))\n",
    "    \n",
    "    def __getitem__(self, i):           # 看作序列使用[]取值\n",
    "        print('getitem')\n",
    "        return self.obj_list[i]\n",
    "    \n",
    "    def __setitem__(self, key, value):  # 看作序列使用[]赋值\n",
    "        print('setitem')\n",
    "        self.obj_list[key] = value\n",
    "        \n",
    "obj = MyClass4(1, 5)\n",
    "print(obj[2])\n",
    "obj[2] = 0\n",
    "print(obj[2])"
   ]
  },
  {
   "cell_type": "markdown",
   "metadata": {
    "slideshow": {
     "slide_type": "subslide"
    }
   },
   "source": [
    "+ 私有成员、类成员与静态成员（了解）"
   ]
  },
  {
   "cell_type": "code",
   "execution_count": 33,
   "metadata": {},
   "outputs": [],
   "source": [
    "class MyClass5:\n",
    "    cls_var = [0]                   # 类变量，定义在类公共字段\n",
    "    __cls_var2 = 0                  # __开头表示私有\n",
    "    \n",
    "    def func1(self):                # 实例方法，self可以调用所有成员\n",
    "        print('call 1', self)\n",
    "        self.cls_var += [0]\n",
    "        self.__cls_var2 = 1         # 类内直接访问私有成员\n",
    "   \n",
    "    @classmethod\n",
    "    def func2(cls):                 # 类方法，通过cls只能调用类成员和静态成员\n",
    "        print('call 2',cls)\n",
    "        cls.cls_var += [1]\n",
    "        \n",
    "    @staticmethod\n",
    "    def func3():                    # 静态方法\n",
    "        print('call 3')\n",
    "        MyClass5.cls_var += [2]"
   ]
  },
  {
   "cell_type": "code",
   "execution_count": 34,
   "metadata": {
    "slideshow": {
     "slide_type": "subslide"
    }
   },
   "outputs": [
    {
     "name": "stdout",
     "output_type": "stream",
     "text": [
      "True\n",
      "call 1 <__main__.MyClass5 object at 0x000001694738F748>\n",
      "call 2 <class '__main__.MyClass5'>\n",
      "call 2 <class '__main__.MyClass5'>\n",
      "call 3\n",
      "call 3\n"
     ]
    }
   ],
   "source": [
    "obj = MyClass5()\n",
    "#print(obj.__cls_var2)\n",
    "print(obj.cls_var is MyClass5.cls_var)\n",
    "obj.func1()\n",
    "#MyClass5.func1()\n",
    "obj.func2()\n",
    "MyClass5.func2()\n",
    "obj.func3()\n",
    "MyClass5.func3()"
   ]
  },
  {
   "cell_type": "markdown",
   "metadata": {
    "slideshow": {
     "slide_type": "subslide"
    }
   },
   "source": [
    "+ 类的继承（了解）"
   ]
  },
  {
   "cell_type": "code",
   "execution_count": 35,
   "metadata": {},
   "outputs": [
    {
     "name": "stdout",
     "output_type": "stream",
     "text": [
      "A-func1\n",
      "B-func2\n",
      "B-func3\n"
     ]
    }
   ],
   "source": [
    "class A:\n",
    "    def func1(self):\n",
    "        print('A-func1')\n",
    "        \n",
    "    def func2(self):\n",
    "        print('A-func2')\n",
    "        \n",
    "class B(A):                             # B继承自A\n",
    "    def func2(self):                    # 覆盖父类方法\n",
    "        print('B-func2')\n",
    "        \n",
    "    def func3(self):                    # 新增方法\n",
    "        print('B-func3')\n",
    "        \n",
    "b = B()\n",
    "b.func1()\n",
    "b.func2()\n",
    "b.func3()"
   ]
  },
  {
   "cell_type": "markdown",
   "metadata": {
    "pycharm": {
     "is_executing": false,
     "name": "#%%\n"
    },
    "scrolled": true,
    "slideshow": {
     "slide_type": "slide"
    }
   },
   "source": [
    "## 输入输出\n",
    "### 键盘输入\n",
    "+ input()读取一行输入，视作字符串"
   ]
  },
  {
   "cell_type": "code",
   "execution_count": 36,
   "metadata": {},
   "outputs": [
    {
     "name": "stdout",
     "output_type": "stream",
     "text": [
      "Please input: python\n",
      "python\n",
      "3.5 4.2\n",
      "7.7\n"
     ]
    }
   ],
   "source": [
    "a = input('Please input: ')                        # 可以设置输入提示语句\n",
    "print(a)\n",
    "b = input().split(' ')                             # 输入空格隔开的两个浮点数\n",
    "c, d = float(b[0]), float(b[1])\n",
    "print(c + d)"
   ]
  },
  {
   "cell_type": "markdown",
   "metadata": {
    "slideshow": {
     "slide_type": "subslide"
    }
   },
   "source": [
    "### 文件读写\n",
    "+ 使用open(filename, mode)以mode模式打开filename文件\n",
    "+ 不同mode拥有不同的权限，只简单介绍六种\n",
    "    + r     读\n",
    "    + r+     读、写\n",
    "    + w     写、新建（覆盖原有文件）\n",
    "    + w+     读、写、新建（覆盖原有文件）\n",
    "    + a     写、新建（从文件末尾开始）\n",
    "    + a+     读、写、新建（从文件末尾开始）"
   ]
  },
  {
   "cell_type": "markdown",
   "metadata": {
    "slideshow": {
     "slide_type": "subslide"
    }
   },
   "source": [
    "+ 写文件：write\n",
    "+ 读文件：read、readline、readlines\n",
    "+ 文件位置指针操作：tell、seek"
   ]
  },
  {
   "cell_type": "code",
   "execution_count": 43,
   "metadata": {
    "slideshow": {
     "slide_type": "-"
    }
   },
   "outputs": [
    {
     "name": "stdout",
     "output_type": "stream",
     "text": [
      "Hello, world!\n",
      "Hello,\n"
     ]
    }
   ],
   "source": [
    "f = open('data.txt', 'w') \n",
    "for i in range(3):\n",
    "    f.write('Hello, world!\\n')\n",
    "f.close()\n",
    "\n",
    "f = open('data.txt', 'r') \n",
    "print(f.read(20))                  # read(size)读取size个字符，默认读全部\n",
    "f.close()"
   ]
  },
  {
   "cell_type": "code",
   "execution_count": 45,
   "metadata": {
    "slideshow": {
     "slide_type": "subslide"
    }
   },
   "outputs": [
    {
     "name": "stdout",
     "output_type": "stream",
     "text": [
      "Hello, world!\n",
      "Hello, world!\n",
      "Hello, world!\n",
      "-----------------------\n",
      "['Hello, world!\\n', 'Hello, world!\\n', 'Hello, world!\\n']\n"
     ]
    }
   ],
   "source": [
    "f = open('data.txt', 'r') \n",
    "line = f.readline()                  # readline()读取一行，以换行符结尾\n",
    "print(line, end = '')\n",
    "while line != '':                    # 如果读到空字符串说明读到文件结尾       \n",
    "    line = f.readline()                  \n",
    "    print(line, end = '')\n",
    "f.close()\n",
    "print('-----------------------')\n",
    "\n",
    "f = open('data.txt', 'r') \n",
    "lines = f.readlines()                # readlines(size)读size个字符，并按行分割，默认读全部\n",
    "print(lines)\n",
    "f.close()"
   ]
  },
  {
   "cell_type": "markdown",
   "metadata": {
    "scrolled": true,
    "slideshow": {
     "slide_type": "slide"
    }
   },
   "source": [
    "## 包管理与使用\n",
    "+ 安装\n",
    "+ 导入\n",
    "+ 常用包使用示例\n",
    "    + math\n",
    "    + random\n",
    "    + copy"
   ]
  },
  {
   "cell_type": "markdown",
   "metadata": {
    "slideshow": {
     "slide_type": "subslide"
    }
   },
   "source": [
    "### 使用pip或anaconda安装\n",
    "\n",
    "```bash\n",
    "# pip\n",
    "pip install package-name\n",
    "# anaconda\n",
    "conda install package-name\n",
    "```"
   ]
  },
  {
   "cell_type": "markdown",
   "metadata": {
    "slideshow": {
     "slide_type": "subslide"
    }
   },
   "source": [
    "### 导入包\n",
    "+ 导入包与导入其他py文件的方法相同\n",
    "+ 假设同目录下有一个time.py文件，里面实现了time()函数"
   ]
  },
  {
   "cell_type": "code",
   "execution_count": 48,
   "metadata": {},
   "outputs": [
    {
     "name": "stdout",
     "output_type": "stream",
     "text": [
      "1613297790.1430738\n",
      "1613297790.1430738\n",
      "1613297790.1430738\n"
     ]
    }
   ],
   "source": [
    "import time                   # 使用import导入其他py文件\n",
    "print(time.time())\n",
    "\n",
    "from time import time         # 从其他py文件中导入特定部分\n",
    "print(time())\n",
    "\n",
    "from time import time as t    # 重命名\n",
    "print(t())"
   ]
  },
  {
   "cell_type": "markdown",
   "metadata": {
    "slideshow": {
     "slide_type": "subslide"
    }
   },
   "source": [
    "### math\n",
    "+ math包实现了多种数学函数"
   ]
  },
  {
   "cell_type": "code",
   "execution_count": 63,
   "metadata": {},
   "outputs": [
    {
     "name": "stdout",
     "output_type": "stream",
     "text": [
      "1.0 4.0\n",
      "0.6931471805599453 2.718281828459045\n",
      "-1.0 0.0\n",
      "1.0 2.0\n",
      "4 3\n",
      "6\n"
     ]
    }
   ],
   "source": [
    "import math\n",
    "print(math.log(2, 2), math.pow(2, 2)) # 对数、指数\n",
    "print(math.log(2), math.exp(1))       # 自然对数、e为底指数\n",
    "print(math.cos(math.pi), math.atan(0))# 三角函数、反三角函数\n",
    "print(math.fabs(-1), math.sqrt(4))    # 绝对值，平方根\n",
    "print(math.ceil(3.5), math.floor(3.5))# 上取整、下取整\n",
    "print(math.factorial(3))              # 阶乘"
   ]
  },
  {
   "cell_type": "markdown",
   "metadata": {
    "slideshow": {
     "slide_type": "subslide"
    }
   },
   "source": [
    "### random\n",
    "+ random包实现了多种随机方法"
   ]
  },
  {
   "cell_type": "code",
   "execution_count": 76,
   "metadata": {},
   "outputs": [
    {
     "name": "stdout",
     "output_type": "stream",
     "text": [
      "0.9723168934313103\n",
      "7.058747138074569\n",
      "9\n",
      "3\n",
      "a\n",
      "[2, 5, 3, 1, 4]\n",
      "[1, 3, 4]\n"
     ]
    }
   ],
   "source": [
    "import random\n",
    "print(random.random())              # 在[0, 1)中取随机浮点数\n",
    "print(random.uniform(3, 10))        # 在[a, b)中取随机浮点数\n",
    "print(random.randint(3, 10))        # 在[a, b]中取随机整数\n",
    "print(random.randrange(3, 10, 2))   # 在range(a, b, c)中随机取整数\n",
    "print(random.choice(['a', 'b']))    # 在序列中随机选一个元素\n",
    "a = [1, 2, 3, 4, 5]\n",
    "random.shuffle(a)                   # 随机重排列\n",
    "print(a)\n",
    "print(random.sample(a, 3))          # 从序列中不放回地抽取k个元素"
   ]
  },
  {
   "cell_type": "markdown",
   "metadata": {
    "slideshow": {
     "slide_type": "subslide"
    }
   },
   "source": [
    "### copy\n",
    "+ copy包实现了对任意数据类型的对象的浅拷贝和深拷贝"
   ]
  },
  {
   "cell_type": "code",
   "execution_count": 78,
   "metadata": {},
   "outputs": [
    {
     "name": "stdout",
     "output_type": "stream",
     "text": [
      "[1, [-1]]\n",
      "[1, [-1]]\n"
     ]
    }
   ],
   "source": [
    "import copy\n",
    "a = [1, [2]]\n",
    "b = copy.copy(a)               # 浅拷贝\n",
    "b[0] = -1\n",
    "b[1][0] = -1\n",
    "print(a)\n",
    "\n",
    "c = copy.deepcopy(a)           # 深拷贝\n",
    "c[0] = -2\n",
    "c[1][0] = -2\n",
    "print(a)"
   ]
  },
  {
   "cell_type": "markdown",
   "metadata": {
    "slideshow": {
     "slide_type": "slide"
    }
   },
   "source": [
    "# 参考资料\n",
    "+ python 官方文档 https://docs.python.org/3/\n",
    "+ 各网站上的 python 入门教程\n",
    "    + https://www.runoob.com/python3/python3-tutorial.html\n",
    "    + https://www.w3school.com.cn/python/index.asp\n",
    "    + https://github.com/TwoWater/Python/blob/master/Res/Python%E5%8D%9A%E5%AE%A2%E7%BD%91%E7%AB%99%E8%B5%84%E6%BA%90.md"
   ]
  }
 ],
 "metadata": {
  "celltoolbar": "幻灯片",
  "kernelspec": {
   "display_name": "Python 3",
   "language": "python",
   "name": "python3"
  },
  "language_info": {
   "codemirror_mode": {
    "name": "ipython",
    "version": 3
   },
   "file_extension": ".py",
   "mimetype": "text/x-python",
   "name": "python",
   "nbconvert_exporter": "python",
   "pygments_lexer": "ipython3",
   "version": "3.7.3"
  },
  "pycharm": {
   "stem_cell": {
    "cell_type": "raw",
    "metadata": {
     "collapsed": false
    },
    "source": []
   }
  }
 },
 "nbformat": 4,
 "nbformat_minor": 1
}
